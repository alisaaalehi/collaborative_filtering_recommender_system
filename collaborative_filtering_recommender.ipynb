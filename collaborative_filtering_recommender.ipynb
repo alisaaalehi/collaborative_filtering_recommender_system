{
 "cells": [
  {
   "cell_type": "markdown",
   "metadata": {},
   "source": [
    "# To Do\n",
    "\n",
    " - make the variable nameings consistent with the paper\n",
    " - optimize the implementation\n",
    " - add more plots\n",
    " - make it work on data format from Kaggle\n",
    " - make it work on any rating data\n",
    " "
   ]
  },
  {
   "cell_type": "code",
   "execution_count": 1,
   "metadata": {},
   "outputs": [],
   "source": [
    "\"\"\"   Collaborative filtering algorithm to predict user ratings for films, based on previous ratings in netflix dataset\n",
    " ---  2018, AliSaaalehi@gmail.com \n",
    " ---  subset of Netflix dataset is used. Look at the \"description.txt\" for more info on dataset\n",
    " \"\"\"\n",
    "\n",
    "import csv\n",
    "import time \n",
    "import math\n",
    "import pdb\n",
    "import numpy as np\n",
    "import random as rnd\n",
    "import matplotlib.pyplot as plt"
   ]
  },
  {
   "cell_type": "markdown",
   "metadata": {},
   "source": [
    "# Read dataset\n",
    "First thing first! Let's read the dataset. If you look at the \"netflix\" folder, you will find three files there. description.txt explains the dataset. I am summarizing it here:\n",
    "\n",
    "- This dataset is a small subset of the data provided as part of the Netflix Prize.\n",
    "- Each row in the **ratings.txt** file represents a rating of a movie by some user. Its format is:<br>\n",
    "   `MovieID, UserID, Rating` for example: `3740, 1502539, 3.0` <br> Ratings are integers from 1 to 5. \n",
    "- The file **movie_titles.txt** contains information about movies. Its rows have the format:<br>\n",
    "  `MovieID ,YearOfRelease ,Title` for example: `9428,2001,Friend` <br> Note that it contains many more movies than have been mentioned in ratings.txt\n",
    "  \n",
    "  \n",
    "I will create a dictionary called `movie_titles_dict` to store information about movies. Key is movie id and the year and title of the move with together will be values in this dictionary.\n",
    "\n",
    "The numpy array `ratings` contains all the rows of the *ratings.txt*"
   ]
  },
  {
   "cell_type": "code",
   "execution_count": 2,
   "metadata": {},
   "outputs": [],
   "source": [
    "# Read movie_titles.txt and store info in a dictionary\n",
    "with open('./netflix/movie_titles.txt', 'r') as file_handle: # , encoding ='ISO-8859-1'\n",
    "    data_reader = csv.reader(file_handle, delimiter=',')\n",
    "    movie_titles_dict = dict()\n",
    "    for row in data_reader:\n",
    "        description = [row[1]] # year of the movie\n",
    "        description.append(row[2]) # append title to this\n",
    "        key = float(row[0]) # key is movie id\n",
    "        movie_titles_dict[key] = description\n",
    "\n",
    "# Read ratings.txt \n",
    "with open('./netflix/ratings.txt', 'r') as file_handle:\n",
    "    data_reader = csv.reader(file_handle, delimiter=',')\n",
    "    ratings = []\n",
    "    for row in data_reader:\n",
    "        ratings.append(list(map(float,row)))\n",
    "# convert it to numpy array\n",
    "ratings=np.asarray(ratings)"
   ]
  },
  {
   "cell_type": "markdown",
   "metadata": {},
   "source": [
    "<a id=\"trick-section\"> </a>\n",
    "# One important trick!\n",
    "\n",
    "At one point in the code, I want to create a big matrix in which each row corresponds to one user and columns will represent different movies. The values inside the matrix are representing the rates that each user has given to each movie. \n",
    "\n",
    "For example, if the user with id 7 has given the rate 5 for the movie with id 28, the cell in matrix related to user 7 and movie 28 will be filled with 5. Lets call this matrix **users_movies**.\n",
    "\n",
    "I will put zeros in those elements that are not specified.\n",
    "\n",
    "\n",
    "\n",
    "users_movies = <img src=\"./imgs/um.png\">\n",
    "\n",
    "If you look at the all user ids and move ids in the file **ratings.txt** you will notice that we do not have ratings for all users and all the movies. First movie id is 28 and the next available one in the dataset is 48 and the last one is 17137. In case of users, first user id is 7 and the last one is $2649267$. \n",
    "\n",
    "Imagine what would be the size of the matrix if we create the matrix with the number of rows equal to maximum user id which is $2649267$ and the number of rows equal to maximum movie id which is $17137$. So, the matrix would be $2649267 \\times 17137$. This matrix would have $45400488579$ elements! If each element takes one byte in the ram, it will require about 45 Gigabyte just to store this matrix!\n",
    "\n",
    "We can easily make it much smaller, by using just those ids that are present in the dataset, but there is a small problem. Later in the code, we need to refer to the elements inside this matrix, but with the new matrix, we can not do this kind of indexing. For example we can not access it in this way: *a = users_movies[user_id, movie_id]* because for example rates that the user_id 7 has given to movies are stored in the first row of the matrix not in the $user\\_id^{th}$ row of it, so we need a fast way to know that user_id 7 corresponds to the first row of the matrix and as another example, rates related to movie_id 48 are stored in the second column of the matrix.\n",
    "\n",
    "For this purpose, I will create dictionaries to make this correspondence happen easily and quickly.\n",
    "- **users_d** is a dictionary in which the key is user id and the value is row number in the matrix **users_movies** that stores ratings given by this user. For example `users_d[7]` will be 0, and `users_d[79]` is 1.\n",
    "- **movies_d** is a dictionary in which the key is movie id and the value is column number in the matrix **users_movies** that is correspondent to this movie. For example `movies_d[28]` is 0 and `movies_d[17137]` is 91.\n",
    "- So to print the rate given by the user with id 7 to the movie with id 28 we should do this ```print(users_movies[users_d[7],movies_d[28]])```\n",
    "\n",
    "Let's do the real work:\n"
   ]
  },
  {
   "cell_type": "code",
   "execution_count": 3,
   "metadata": {},
   "outputs": [
    {
     "name": "stdout",
     "output_type": "stream",
     "text": [
      "('Number of users: ', 28968)\n",
      "('First five user ids: ', array([  7.,  79., 199., 481., 769.]))\n",
      "('Last five user ids: ', array([2648853., 2648869., 2648885., 2649120., 2649267.]))\n",
      "('users_d[7]: ', 0)\n",
      "('users_d[2649267]: ', 28966)\n",
      "('Number of movies: ', 92)\n",
      "('First five movie ids: ', array([ 28.,  48., 305., 577., 595.]))\n",
      "('Last five movie ids: ', array([15992., 16082., 16576., 16820., 16933.]))\n",
      "('movies_d[28]: ', 0)\n",
      "('movies_d[2649267]: ', 91)\n"
     ]
    }
   ],
   "source": [
    "# create a dictionary to map user ids to indexes\n",
    "user_unique = np.unique(ratings[:,1])\n",
    "users_num = user_unique.size\n",
    "users_d = {int(x):int(y) for x,y in zip(user_unique,range(users_num))} # user dictionary\n",
    "# print some info\n",
    "print(\"Number of users: \", users_num)\n",
    "print(\"First five user ids: \", user_unique[0:5])\n",
    "print(\"Last five user ids: \", user_unique[-6:-1])\n",
    "print('users_d[7]: ', users_d[7])\n",
    "print('users_d[2649267]: ', users_d[2649267])\n",
    "\n",
    "\n",
    "# create a dictionary to map movie ids to indexes\n",
    "movie_unique=np.unique(ratings[:,0])\n",
    "movies_num=movie_unique.size\n",
    "movies_d={int(x):int(y) for x,y in zip(movie_unique,range(movies_num))} # movie dictionary\n",
    "# print some info\n",
    "print(\"Number of movies: \", movies_num)\n",
    "print(\"First five movie ids: \", movie_unique[0:5])\n",
    "print(\"Last five movie ids: \", movie_unique[-6:-1])\n",
    "print('movies_d[28]: ', movies_d[28])\n",
    "print('movies_d[2649267]: ', movies_d[17137])"
   ]
  },
  {
   "cell_type": "markdown",
   "metadata": {},
   "source": [
    "# Shuffle the ratings\n",
    "In the **ratings.txt** rows are sorted based on movie ids in the dataset. I'm going to separate the test and train data, so it is better to shuffle them before doing so."
   ]
  },
  {
   "cell_type": "code",
   "execution_count": 4,
   "metadata": {},
   "outputs": [],
   "source": [
    "# shuffle the ratings\n",
    "np.random.shuffle(ratings)"
   ]
  },
  {
   "cell_type": "markdown",
   "metadata": {},
   "source": [
    "# Separate test data for evaluation\n",
    "We have $227773$ triplets of `MovieID, UserID, Rating`. I am going to put aside one percent of them that is exactly 227 of them for future tests."
   ]
  },
  {
   "cell_type": "code",
   "execution_count": 5,
   "metadata": {},
   "outputs": [
    {
     "name": "stdout",
     "output_type": "stream",
     "text": [
      "('Number of ratings: ', 227773)\n",
      "('Number of test samples: ', 227)\n",
      "('First few train ratings: ', array([[1.558200e+04, 2.264796e+06, 4.000000e+00],\n",
      "       [1.608200e+04, 6.634050e+05, 4.000000e+00],\n",
      "       [1.551600e+04, 2.297386e+06, 5.000000e+00],\n",
      "       [2.800000e+01, 2.678800e+05, 4.000000e+00],\n",
      "       [3.253000e+03, 1.000301e+06, 3.000000e+00],\n",
      "       [4.761000e+03, 2.677800e+05, 2.000000e+00],\n",
      "       [2.808000e+03, 8.620400e+05, 3.000000e+00],\n",
      "       [1.693300e+04, 2.446344e+06, 1.000000e+00],\n",
      "       [1.744000e+03, 3.263560e+05, 4.000000e+00],\n",
      "       [1.832000e+03, 5.782360e+05, 3.000000e+00]]))\n",
      "('First few test ratings: ', array([[1.360400e+04, 4.229520e+05, 4.000000e+00],\n",
      "       [1.744000e+03, 2.442925e+06, 4.000000e+00],\n",
      "       [6.482000e+03, 8.036100e+05, 3.000000e+00],\n",
      "       [3.418000e+03, 7.401420e+05, 3.000000e+00],\n",
      "       [4.544000e+03, 5.079210e+05, 1.000000e+00],\n",
      "       [1.744000e+03, 1.731838e+06, 3.000000e+00],\n",
      "       [1.832000e+03, 9.149580e+05, 5.000000e+00],\n",
      "       [2.800000e+01, 2.208746e+06, 2.000000e+00],\n",
      "       [4.761000e+03, 2.356870e+06, 3.000000e+00],\n",
      "       [1.608200e+04, 2.571972e+06, 4.000000e+00]]))\n"
     ]
    }
   ],
   "source": [
    "# separate test and train data\n",
    "# be careful, dictionaries should be created before separating test and train!\n",
    "\n",
    "ratings_num=ratings.shape[0]\n",
    "print(\"Number of ratings: \", ratings_num)\n",
    "\n",
    "test_percentage = 0.1\n",
    "test_num= int(math.floor(test_percentage*ratings_num/100))\n",
    "print(\"Number of test samples: \", test_num)\n",
    "\n",
    "test_ratings=ratings[0:test_num,:]\n",
    "train_ratings=ratings[test_num+1:-1,:]\n",
    "\n",
    "print(\"First few train ratings: \", train_ratings[0:10,:])\n",
    "print(\"First few test ratings: \", test_ratings[0:10,:])"
   ]
  },
  {
   "cell_type": "markdown",
   "metadata": {},
   "source": [
    "# Create and fill up the *users_movies* matrix\n",
    "\n",
    "Now, let's create the **users_movies** matrix that we discussed in the section [One important trick](#trick-section).\n",
    "\n",
    "Once again: Remember that we should always use `users_d` and `movies_d` to find the given rate of a specific movie by a specific user, for exampel ```print(users_movies[users_d[7],movies_d[28]])```"
   ]
  },
  {
   "cell_type": "code",
   "execution_count": 6,
   "metadata": {},
   "outputs": [
    {
     "name": "stdout",
     "output_type": "stream",
     "text": [
      "('Usage example: Rate given to the movie with id 28 by user with id 7:', 4)\n",
      "('Shape of the users_movies matrix: ', (28968, 92))\n",
      "('Number of zero element of the matrix: ', 2437512)\n",
      "('Sparsness of the matrix: ', 91.0, '%')\n"
     ]
    },
    {
     "data": {
      "image/png": "[encoded data removed]",
      "text/plain": [
       "<Figure size 432x288 with 2 Axes>"
      ]
     },
     "metadata": {},
     "output_type": "display_data"
    }
   ],
   "source": [
    "# creat users-movies matrix\n",
    "users_movies=np.zeros((users_num,movies_num),dtype=int)\n",
    "for row in train_ratings:\n",
    "    m_index=movies_d[row[0]]\n",
    "    u_index=users_d[row[1]]\n",
    "    users_movies[u_index,m_index]=row[2]\n",
    "\n",
    "# use the matrix and print rate given to the movie with id 28 by user with id 7\n",
    "print(\"Usage example: Rate given to the movie with id 28 by user with id 7:\",\n",
    "      users_movies[users_d[7],movies_d[28]])\n",
    "\n",
    "# let's print and plot some information about the users_movies matrix\n",
    "print(\"Shape of the users_movies matrix: \", users_movies.shape)\n",
    "zero_num=users_movies.size - np.count_nonzero(users_movies)\n",
    "print(\"Number of zero element of the matrix: \", zero_num)\n",
    "print(\"Sparsness of the matrix: \", (math.floor(float(zero_num) / users_movies.size*100)), \"%\")\n",
    "\n",
    "# reshape and plot part of the matrix like an image to get a sense of sparsity of the matrix\n",
    "plot_flag = True\n",
    "if plot_flag == True:\n",
    "    plt.imshow(users_movies.reshape(1632,1633))\n",
    "    plt.colorbar()\n",
    "    plt.title(\"Reshaped version of part of user-movie matrix\")\n",
    "    plt.show()\n",
    "        "
   ]
  },
  {
   "cell_type": "markdown",
   "metadata": {},
   "source": [
    "# Find the average ratings given by each user\n",
    "\n",
    "If you look at the first equation in the [reference paper](#reference) section 2.1 you can see that we need to find mean vote (rating) of each user, so let's measure that first. Keep in mind that we should only consider those movies (or items) that the user has given a vote for it (so we cannot simple use the np.mean() here)"
   ]
  },
  {
   "cell_type": "code",
   "execution_count": 7,
   "metadata": {},
   "outputs": [
    {
     "name": "stdout",
     "output_type": "stream",
     "text": [
      "('Number of users with zero average ratings: ', 0)\n",
      "('users_sum_ratings from 0 to 10: ', array([[20.],\n",
      "       [29.],\n",
      "       [15.],\n",
      "       [20.],\n",
      "       [18.],\n",
      "       [11.],\n",
      "       [30.],\n",
      "       [36.],\n",
      "       [12.],\n",
      "       [31.]]))\n",
      "('nonzero_nums from 0 to 10: ', array([[ 6],\n",
      "       [ 8],\n",
      "       [ 4],\n",
      "       [ 5],\n",
      "       [ 6],\n",
      "       [ 3],\n",
      "       [ 9],\n",
      "       [15],\n",
      "       [ 4],\n",
      "       [ 7]]))\n",
      "('users_avg_ratings from 0 to 10: ', array([[3.33333333],\n",
      "       [3.625     ],\n",
      "       [3.75      ],\n",
      "       [4.        ],\n",
      "       [3.        ],\n",
      "       [3.66666667],\n",
      "       [3.33333333],\n",
      "       [2.4       ],\n",
      "       [3.        ],\n",
      "       [4.42857143]]))\n"
     ]
    }
   ],
   "source": [
    "# mesaure vote average for each user\n",
    "users_sum_ratings = np.sum(users_movies, axis=1, keepdims=True, dtype=float)\n",
    "nonzero_nums= np.count_nonzero(users_movies, axis=1).reshape(users_sum_ratings.shape)\n",
    "users_avg_ratings = users_sum_ratings / nonzero_nums\n",
    "\n",
    "\n",
    "print(\"Number of users with zero average ratings: \" , users_avg_ratings.size - np.count_nonzero(users_avg_ratings))\n",
    "# print some of the values\n",
    "s, e=0, 10\n",
    "print(\"users_sum_ratings from \"+str(s)+\" to \"+str(e)+\": \", users_sum_ratings[s:e])\n",
    "print(\"nonzero_nums from \"+str(s)+\" to \"+str(e)+\": \",nonzero_nums[s:e])\n",
    "print(\"users_avg_ratings from \"+str(s)+\" to \"+str(e)+\": \",users_avg_ratings[s:e])"
   ]
  },
  {
   "cell_type": "markdown",
   "metadata": {},
   "source": [
    "# Normalize user votes\n",
    "\n",
    "By looking at the equations 1 and 2 in the [reference paper](#reference) you can see that we always be using the normalized votes, so let's normalized them before hand. Normalization here means just subtracting average vote of each user from all the rates given by that user."
   ]
  },
  {
   "cell_type": "code",
   "execution_count": 8,
   "metadata": {},
   "outputs": [
    {
     "name": "stdout",
     "output_type": "stream",
     "text": [
      "('users_movies for first user: ', array([4, 0, 0, 0, 0, 0, 0, 0, 0, 0, 4, 0, 0, 0, 0, 0, 0, 0, 0, 3, 3, 0,\n",
      "       0, 0, 0, 0, 0, 0, 0, 0, 0, 0, 0, 0, 0, 0, 0, 0, 0, 0, 0, 0, 0, 0,\n",
      "       0, 0, 0, 0, 0, 0, 0, 0, 0, 0, 0, 0, 0, 0, 0, 0, 0, 0, 0, 0, 0, 0,\n",
      "       0, 0, 0, 0, 0, 0, 0, 0, 0, 0, 0, 0, 0, 0, 0, 2, 0, 0, 0, 0, 0, 4,\n",
      "       0, 0, 0, 0]))\n",
      "('averate vote of the first user: ', array([3.33333333]))\n",
      "('users_movies_normalized for first user: ', array([ 0.66666667, -0.        , -0.        , -0.        , -0.        ,\n",
      "       -0.        , -0.        , -0.        , -0.        , -0.        ,\n",
      "        0.66666667, -0.        , -0.        , -0.        , -0.        ,\n",
      "       -0.        , -0.        , -0.        , -0.        , -0.33333333,\n",
      "       -0.33333333, -0.        , -0.        , -0.        , -0.        ,\n",
      "       -0.        , -0.        , -0.        , -0.        , -0.        ,\n",
      "       -0.        , -0.        , -0.        , -0.        , -0.        ,\n",
      "       -0.        , -0.        , -0.        , -0.        , -0.        ,\n",
      "       -0.        , -0.        , -0.        , -0.        , -0.        ,\n",
      "       -0.        , -0.        , -0.        , -0.        , -0.        ,\n",
      "       -0.        , -0.        , -0.        , -0.        , -0.        ,\n",
      "       -0.        , -0.        , -0.        , -0.        , -0.        ,\n",
      "       -0.        , -0.        , -0.        , -0.        , -0.        ,\n",
      "       -0.        , -0.        , -0.        , -0.        , -0.        ,\n",
      "       -0.        , -0.        , -0.        , -0.        , -0.        ,\n",
      "       -0.        , -0.        , -0.        , -0.        , -0.        ,\n",
      "       -0.        , -1.33333333, -0.        , -0.        , -0.        ,\n",
      "       -0.        , -0.        ,  0.66666667, -0.        , -0.        ,\n",
      "       -0.        , -0.        ]))\n"
     ]
    }
   ],
   "source": [
    "# Normalize rates by the users average weight\n",
    "\n",
    "non_zero_mask= np.zeros(users_movies.shape, dtype=int)\n",
    "non_zero_mask[users_movies>0]=1 # elements of this matrix are 1 wherever is a non zero value in the users_movies\n",
    "\n",
    "users_movies_normalized = np.subtract(users_movies,users_avg_ratings)\n",
    "# we should do subtraction just for movies that already are rated, \n",
    "#    so we make the others zero by this multiplication\n",
    "users_movies_normalized = np.multiply(users_movies_normalized,non_zero_mask)\n",
    "\n",
    "# see some numbers\n",
    "print (\"users_movies for first user: \", users_movies[0,:])\n",
    "print(\"averate vote of the first user: \", users_avg_ratings[0])\n",
    "print (\"users_movies_normalized for first user: \", users_movies_normalized[0,:])"
   ]
  },
  {
   "cell_type": "markdown",
   "metadata": {},
   "source": [
    "# Common movies between users\n",
    "\n",
    "In this point, I want to store the number of common movies rated by every pair of users. For example, how many movies are rated by both first and second user?! \n",
    "\n",
    "I don't want to write a `foor-loop` to do that. From previous step, we have the `non_zero_mask` matrix in which if a user has voted for a movie (whatever the exact value of vote might be) the corresponding element in this matrix is 1 and 0 otherwise. By multiplying this matrix in its transpose, we can indirectly (and efficiently) count the number of common movies between all pairs of users.\n",
    "\n",
    "This is the most time consuming part of the code. It may take up to 3 minutes!"
   ]
  },
  {
   "cell_type": "code",
   "execution_count": 9,
   "metadata": {},
   "outputs": [],
   "source": [
    "# form a matrix containing the number of common movies between users\n",
    "common_matrix=np.matmul(non_zero_mask , non_zero_mask.T)"
   ]
  },
  {
   "cell_type": "code",
   "execution_count": 10,
   "metadata": {},
   "outputs": [],
   "source": [
    "def predict_rating(user_index, movie_index, min_common_threshold=2):\n",
    "    \"\"\"\n",
    "    Predicts the possible rating by a user with index 'user_index' to a movie with index 'movie_index' in the dataset.\n",
    "    Note: user_index, movie_index are not user id and movie id, they are converted to index in the matrix before passing to this function.\n",
    "    \n",
    "    Arguments:\n",
    "    user_index -- index of the user in the dataset (For example user 0 (this index corresponds with user id 7))\n",
    "    movie_index -- index of the movie in the dataset\n",
    "    min_common_threshold -- minimum number of common movies voted by a pair of users to consider them as similar\n",
    "    \n",
    "    Returns:\n",
    "    predicted_rate -- float number between 0 and 5 \n",
    "    \n",
    "    \"\"\"\n",
    "    # find those users in that have common movies with the query user more than min_common_threshold \n",
    "    common_row = common_matrix [user_index,:]\n",
    "    similar_users= (np.where( common_row > min_common_threshold))[0] # The function np.Where() returns results in the form of tuple, we need the\n",
    "                                                      #  list of indexes which in in the first lement of that tuple\n",
    "    \n",
    "    active_user_ratings = users_movies_normalized [user_index,:] #these are normalized ratings, no need to subtract average\n",
    "    \n",
    "    number_of_similar_users = similar_users.size\n",
    "    similarity_list = np.zeros((number_of_similar_users,1), dtype=float) # Empty list to store similarity measures (all w(a,i) from equation (2))\n",
    "    \n",
    "    if (number_of_similar_users == 0):\n",
    "        print ('No smilar user in the dataset found! ')\n",
    "        print ('Averge rating for the user is returned! ')\n",
    "        predicted_rate = users_avg_ratings[user_index]\n",
    "        return predicted_rate\n",
    "    \n",
    "   \n",
    "    for i in range(number_of_similar_users):\n",
    "        current_similar_user_index = similar_users [i]\n",
    "        current_similar_user_ratings = users_movies_normalized [current_similar_user_index,:]\n",
    "\n",
    "        # Numinator of the equation (2): sum of product of active users normalized rating with all similar users\n",
    "        numinator= np.matmul(active_user_ratings.T , current_similar_user_ratings)\n",
    "        \n",
    "        # Denominator part: To avoid foor loops I will using logical operations\n",
    "        number_of_movies = active_user_ratings.size\n",
    "        denuminator_1 = 0\n",
    "        denuminator_2 = 0\n",
    "\n",
    "        for j in range(number_of_movies):\n",
    "            if active_user_ratings[j] !=0 and current_similar_user_ratings[j] !=0:\n",
    "                denuminator_1 += (active_user_ratings[j] **2)\n",
    "                denuminator_2 += (current_similar_user_ratings[j] **2)\n",
    "        denuminator = math.sqrt(denuminator_1 * denuminator_2)\n",
    "\n",
    "        # Avoid division\n",
    "        if denuminator == 0:\n",
    "            similarity_list[i] = 0\n",
    "        else:\n",
    "            similarity_list[i] = numinator / denuminator      \n",
    "        \n",
    "    # Finally sum up every thing and mesure predicted rate\n",
    "    sigma_part = 0\n",
    "    for i in range(number_of_similar_users):\n",
    "        current_similar_user_index = similar_users [i]\n",
    "        sigma_part = users_movies_normalized [current_similar_user_index, movie_index] * similarity_list[i]\n",
    "    \n",
    "    \n",
    "    normalization_factor = np.sum(np.absolute(similarity_list))\n",
    "    predicted_rate= users_avg_ratings[user_index]\n",
    "    \n",
    "    if normalization_factor !=0:\n",
    "        predicted_rate +=  sigma_part / normalization_factor\n",
    "        \n",
    "    # Finall sanity checks (This will not happen hopefully)\n",
    "    if predicted_rate > 5: \n",
    "        predicted_rate = 5 \n",
    "    elif predicted_rate < 0:\n",
    "        predicted_rate = 0\n",
    "    \n",
    "    return predicted_rate"
   ]
  },
  {
   "cell_type": "markdown",
   "metadata": {},
   "source": [
    "# Test it\n",
    "\n",
    "Now lets the method on test data that we already now the real votes. One simple measure of the quality of the method would mean squared error.\n",
    "\n",
    "Change test_samples_num to run it for more test examples."
   ]
  },
  {
   "cell_type": "code",
   "execution_count": 11,
   "metadata": {},
   "outputs": [
    {
     "name": "stdout",
     "output_type": "stream",
     "text": [
      "----------------------------------------------------------------------------------------------------\n",
      "User with id: 422952.0 to movie with id: 13604.0\n",
      "Predicted vote=3.8\n",
      "Real      vote=4.0\n",
      "----------------------------------------------------------------------------------------------------\n",
      "User with id: 2442925.0 to movie with id: 1744.0\n",
      "Predicted vote=4.0\n",
      "Real      vote=4.0\n",
      "----------------------------------------------------------------------------------------------------\n",
      "User with id: 803610.0 to movie with id: 6482.0\n",
      "Predicted vote=3.0\n",
      "Real      vote=3.0\n",
      "----------------------------------------------------------------------------------------------------\n",
      "User with id: 740142.0 to movie with id: 3418.0\n",
      "Predicted vote=4.2\n",
      "Real      vote=3.0\n",
      "----------------------------------------------------------------------------------------------------\n",
      "User with id: 507921.0 to movie with id: 4544.0\n",
      "Predicted vote=2.93\n",
      "Real      vote=1.0\n",
      "----------------------------------------------------------------------------------------------------\n",
      "User with id: 1731838.0 to movie with id: 1744.0\n",
      "Predicted vote=3.0\n",
      "Real      vote=3.0\n",
      "----------------------------------------------------------------------------------------------------\n",
      "User with id: 914958.0 to movie with id: 1832.0\n",
      "Predicted vote=3.4\n",
      "Real      vote=5.0\n",
      "----------------------------------------------------------------------------------------------------\n",
      "User with id: 2208746.0 to movie with id: 28.0\n",
      "Predicted vote=2.83\n",
      "Real      vote=2.0\n",
      "----------------------------------------------------------------------------------------------------\n",
      "User with id: 2356870.0 to movie with id: 4761.0\n",
      "Predicted vote=3.39\n",
      "Real      vote=3.0\n",
      "----------------------------------------------------------------------------------------------------\n",
      "User with id: 2571972.0 to movie with id: 16082.0\n",
      "Predicted vote=3.71\n",
      "Real      vote=4.0\n",
      "****************************************************************************************************\n",
      "('MSE: ', 0.8690000000000001)\n"
     ]
    }
   ],
   "source": [
    "# test the method on test data and report the error\n",
    "error = 0\n",
    "test_samples_num = 10 # or test_ratings.shape[0] for all test samples\n",
    "for r in range(test_samples_num):\n",
    "\n",
    "    row = test_ratings[r,:]\n",
    "    movie_id = row[0]\n",
    "    test_user_id = row[1]\n",
    "    movie_index = movies_d[movie_id]\n",
    "    test_user_index = users_d[test_user_id]\n",
    "    real_rate=row[2]\n",
    "    \n",
    "    predicted_rate = predict_rating(test_user_index, movie_index, min_common_threshold =1)\n",
    "    predicted_rate = np.squeeze(predicted_rate) # convert [2.30] to 2.30\n",
    "    predicted_rate = np.around(predicted_rate, decimals=2)\n",
    "    \n",
    "    print(100*\"-\")\n",
    "    print(\"User with id: \"+str(test_user_id)+ \" to movie with id: \"+str(movie_id))\n",
    "    print(\"Predicted vote=\" + str(predicted_rate))\n",
    "    print(\"Real      vote=\"+ str(real_rate))\n",
    "    error += (predicted_rate - real_rate) ** 2\n",
    "\n",
    "print(100*\"*\")\n",
    "print ('MSE: ', error / test_samples_num)"
   ]
  },
  {
   "cell_type": "markdown",
   "metadata": {},
   "source": [
    "# Recommend some movie\n",
    "\n",
    "We can use the algorithm to really recommend movies to a user. In this section we will ask for a user id and year, then we will recommend to that user movies that he/she may be interested in them. Recommended movies should be product of the quary year."
   ]
  },
  {
   "cell_type": "code",
   "execution_count": 24,
   "metadata": {},
   "outputs": [
    {
     "name": "stdout",
     "output_type": "stream",
     "text": [
      "Enter a valid user id (ex. 160977): 160977\n",
      "Enter the desired year (ex. 2004): 2004\n",
      "*************** Recommended movies ***************\n",
      "Spider-Man vs. Doc Ock\n",
      "Schizo\n",
      "LeapFrog: Math Circus\n",
      "Dario Argento's The Card Player\n",
      "ABC News Presents: Jesus\n",
      "The Ranch\n",
      "DiG!\n",
      "The Murder Room\n",
      "Witness to a Kill\n",
      "Farscape: The Peacekeeper Wars: Bonus Material\n",
      "13 Going on 30\n",
      "****************************************\n",
      "Press q to exit or anything else to try again: q\n",
      "q\n"
     ]
    }
   ],
   "source": [
    "while True:\n",
    "    \n",
    "    quary_user_id = 160977 # default\n",
    "    quary_year= '2004'\n",
    "\n",
    "    quary_user_id =  int(input(\"Enter a valid user id (ex. 160977): \"))\n",
    "    quary_year = raw_input (\"Enter the desired year (ex. 2004): \")\n",
    "\n",
    "    # recommend the movie if the predicted rate is more than this\n",
    "    min_rate_threshold = 1\n",
    "    if quary_user_id in users_d:\n",
    "        test_user_index = users_d[quary_user_id]\n",
    "    else:\n",
    "        print(\"User id not valid!\")\n",
    "        pass\n",
    "    print (15*\"*\"+\" Recommended movies \"+15*\"*\")\n",
    "    \n",
    "    # loop over all movies in the dataset. test prediction for those that are produced in the quary year\n",
    "    for m in movie_unique:\n",
    "        movie_index = movies_d[m]\n",
    "        if  users_movies[test_user_index, movie_index]==0 and movie_titles_dict[m][0] == quary_year:\n",
    "            predicted_rate = predict_rating(test_user_index, movie_index, min_common_threshold=2)\n",
    "            if predicted_rate >= min_rate_threshold:\n",
    "                print(movie_titles_dict[m][1])\n",
    "    print (40*\"*\")\n",
    "    \n",
    "    cmd = raw_input(\"Press q to exit or anything else to try again: \")\n",
    "    print(cmd)\n",
    "    if cmd == \"q\":\n",
    "        break"
   ]
  },
  {
   "cell_type": "markdown",
   "metadata": {},
   "source": [
    "# Reference\n",
    "\n",
    "<a id=\"reference\"> </a>\n",
    "[1] [Empirical analysis of Predictive Algorithms for Collaborative Filtering by John S. Breese et al. 1998](https://arxiv.org/pdf/1301.7363.pdf)"
   ]
  }
 ],
 "metadata": {
  "kernelspec": {
   "display_name": "Python 2",
   "language": "python",
   "name": "python2"
  },
  "language_info": {
   "codemirror_mode": {
    "name": "ipython",
    "version": 2
   },
   "file_extension": ".py",
   "mimetype": "text/x-python",
   "name": "python",
   "nbconvert_exporter": "python",
   "pygments_lexer": "ipython2",
   "version": "2.7.12"
  }
 },
 "nbformat": 4,
 "nbformat_minor": 2
}
